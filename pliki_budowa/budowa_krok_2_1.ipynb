{
 "cells": [
  {
   "cell_type": "markdown",
   "id": "de8aef7d",
   "metadata": {},
   "source": [
    "# Drugi Kamień Milowy Projektu ML\n",
    "\n",
    "W ramach drugiego kamienia milowego projektu, skupiliśmy się na wytrenowaniu kilku architektur modeli głębokiego uczenia.\n",
    "Przeprowadziliśmy trening następujących modeli:\n",
    "- Własna Sieć Neuronowa \n",
    "- Wytrenowana Własna Sieć Neuronowa + pare nowych warstw\n",
    "- EfficientNetB0\n",
    "- MobileNetV2\n",
    "- DenseNet121\n",
    "- ResNet50\n",
    "\n",
    "\n",
    "Prezentujemy poniżej wykresy dla każdego z modeli:"
   ]
  },
  {
   "cell_type": "markdown",
   "id": "69863c03",
   "metadata": {},
   "source": [
    "# 1. Własna Sieć Neuronowa \n",
    "![model1](plots/model_1.png)"
   ]
  },
  {
   "cell_type": "markdown",
   "id": "0a7e879a",
   "metadata": {},
   "source": [
    "# 2. Wytrenowana Własna sieć neutronowa + pare nowych warstw\n",
    "![model2](plots/re_model_1.png)"
   ]
  },
  {
   "cell_type": "markdown",
   "id": "b2204fdb",
   "metadata": {},
   "source": [
    "# 3. EfficientNetB0\n",
    "![model3](plots/model_2.png)\n",
    "# 4. MobileNetV2\n",
    "![model4](plots/model_3.png)\n",
    "# 5. DenseNet121\n",
    "![model5](plots/model_4.png)\n",
    "# 6. ResNet50\n",
    "![model6](plots/model_5.png)\n"
   ]
  },
  {
   "cell_type": "markdown",
   "id": "90909454",
   "metadata": {},
   "source": [
    "## Dalsze Kroki i Pomysły\n",
    "W kolejnych etapach projektu planujemy skupić się na:\n",
    "- **Dostrajaniu Hiperparametrów**: Eksperymentowanie z różnymi wartościami hiperparametrów (np. learning rate, wielkość batcha, współczynnik dropout) w celu optymalizacji wydajności modeli.\n",
    "- **Augmentacji Danych**: Zastosowanie technik augmentacji danych w celu zwiększenia różnorodności zbioru treningowego i poprawy generalizacji modeli.\n",
    "- **Blokach Uwag**: Zbadanie możliwości integracji mechanizmów uwagi (np. Attention Blocks) w architekturach modeli, aby umożliwić im skupienie się na najważniejszych cechach danych.\n",
    "- **Dogłębnej Analizie Modeli pod Kątem Konkretnych Klas**: Szczegółowa analiza wyników klasyfikacji dla poszczególnych klas, aby zidentyfikować, które klasy sprawiają modelom najwięcej problemów i dlaczego.\n",
    "Te dalsze kroki mają na celu dalsze zwiększenie wydajności naszych modeli i lepsze zrozumienie ich zachowania."
   ]
  }
 ],
 "metadata": {
  "kernelspec": {
   "display_name": "py310",
   "language": "python",
   "name": "python3"
  },
  "language_info": {
   "codemirror_mode": {
    "name": "ipython",
    "version": 3
   },
   "file_extension": ".py",
   "mimetype": "text/x-python",
   "name": "python",
   "nbconvert_exporter": "python",
   "pygments_lexer": "ipython3",
   "version": "3.10.16"
  }
 },
 "nbformat": 4,
 "nbformat_minor": 5
}
